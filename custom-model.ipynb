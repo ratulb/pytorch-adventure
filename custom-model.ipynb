{
 "cells": [
  {
   "cell_type": "code",
   "execution_count": 36,
   "id": "according-marsh",
   "metadata": {},
   "outputs": [],
   "source": [
    "import torch\n",
    "import torch.nn as nn\n",
    "X = torch.tensor([[1],[2],[3],[4],[5]], dtype=torch.float32)\n",
    "Y = torch.tensor([[3], [5], [7], [9], [11]], dtype=torch.float32)\n",
    "X_test = torch.tensor([5], dtype=torch.float32)\n"
   ]
  },
  {
   "cell_type": "code",
   "execution_count": 37,
   "metadata": {},
   "outputs": [
    {
     "output_type": "stream",
     "name": "stdout",
     "text": [
      "5 1\n"
     ]
    }
   ],
   "source": [
    "n_samples, n_features = X.shape\n",
    "print(n_samples, n_features)\n",
    "input_size = n_features\n",
    "output_size = n_features\n",
    "\n",
    "class LinearRegression(nn.Module):\n",
    "    def __init__(self, input_dim, outpu_dim):\n",
    "        super(LinearRegression, self).__init__()\n",
    "        self.lin = nn.Linear(input_dim, outpu_dim)\n",
    "\n",
    "    def forward(self, x):\n",
    "        return self.lin(x)\n",
    "\n",
    "model = LinearRegression(input_size, output_size)\n"
   ]
  },
  {
   "cell_type": "code",
   "execution_count": 38,
   "metadata": {},
   "outputs": [
    {
     "output_type": "stream",
     "name": "stdout",
     "text": [
      "Prediction before training forward = 1.603\n"
     ]
    }
   ],
   "source": [
    "print(f'Prediction before training forward = {model(X_test).item():.3f}')"
   ]
  },
  {
   "cell_type": "code",
   "execution_count": 39,
   "metadata": {},
   "outputs": [
    {
     "output_type": "stream",
     "name": "stdout",
     "text": [
      "epoch = 1, weight = 0.964, loss = 45.792\nepoch = 11, weight = 2.295, loss = 0.571\nepoch = 21, weight = 2.372, loss = 0.343\nepoch = 31, weight = 2.366, loss = 0.320\nepoch = 41, weight = 2.354, loss = 0.299\nepoch = 51, weight = 2.342, loss = 0.279\nepoch = 61, weight = 2.331, loss = 0.261\nepoch = 71, weight = 2.320, loss = 0.244\nepoch = 81, weight = 2.309, loss = 0.228\nepoch = 91, weight = 2.299, loss = 0.213\n"
     ]
    }
   ],
   "source": [
    "learning_rate = 0.01\n",
    "n_iter = 100\n",
    "loss = nn.MSELoss()\n",
    "optimizer = torch.optim.SGD(model.parameters(), lr=learning_rate)\n",
    "\n",
    "for epoch in range(n_iter):\n",
    "    y_pred = model(X)\n",
    "    l = loss(Y, y_pred)\n",
    "    l.backward()\n",
    "    optimizer.step()\n",
    "    optimizer.zero_grad()\n",
    "\n",
    "    if epoch % 10 == 0:\n",
    "        [w,b] = model.parameters()\n",
    "        print(f'epoch = {epoch+1}, weight = {w[0][0].item():.3f}, loss = {l:.3f}')"
   ]
  },
  {
   "cell_type": "code",
   "execution_count": 40,
   "metadata": {},
   "outputs": [
    {
     "output_type": "stream",
     "name": "stdout",
     "text": [
      "Prediction with custom model after training forward = 11.403\n"
     ]
    }
   ],
   "source": [
    "print(f'Prediction with custom model after training forward = {model(X_test).item():.3f}')"
   ]
  },
  {
   "cell_type": "code",
   "execution_count": null,
   "metadata": {},
   "outputs": [],
   "source": []
  }
 ],
 "metadata": {
  "kernelspec": {
   "display_name": "Python 3",
   "language": "python",
   "name": "python3"
  },
  "language_info": {
   "codemirror_mode": {
    "name": "ipython",
    "version": 3
   },
   "file_extension": ".py",
   "mimetype": "text/x-python",
   "name": "python",
   "nbconvert_exporter": "python",
   "pygments_lexer": "ipython3",
   "version": "3.7.4-final"
  }
 },
 "nbformat": 4,
 "nbformat_minor": 5
}