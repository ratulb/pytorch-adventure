{
 "cells": [
  {
   "cell_type": "code",
   "execution_count": 465,
   "id": "according-marsh",
   "metadata": {},
   "outputs": [],
   "source": [
    "import numpy as np\n",
    "X = np.array([1,2,3,4,5], dtype=np.float32)\n",
    "Y = np.array([3, 5, 7, 9, 11], dtype=np.float32)"
   ]
  },
  {
   "cell_type": "code",
   "execution_count": 466,
   "id": "potential-watts",
   "metadata": {},
   "outputs": [],
   "source": [
    "#y = 2 * x + 1"
   ]
  },
  {
   "cell_type": "code",
   "execution_count": 467,
   "id": "appreciated-cleaning",
   "metadata": {},
   "outputs": [
    {
     "data": {
      "text/plain": [
       "float"
      ]
     },
     "execution_count": 467,
     "metadata": {},
     "output_type": "execute_result"
    }
   ],
   "source": [
    "weights = 0.0\n",
    "type(weights)"
   ]
  },
  {
   "cell_type": "code",
   "execution_count": 468,
   "id": "retained-sheet",
   "metadata": {},
   "outputs": [],
   "source": [
    "def forward(x):\n",
    "    return weights * x + 1"
   ]
  },
  {
   "cell_type": "code",
   "execution_count": 469,
   "id": "disabled-invite",
   "metadata": {},
   "outputs": [
    {
     "data": {
      "text/plain": [
       "1.0"
      ]
     },
     "execution_count": 469,
     "metadata": {},
     "output_type": "execute_result"
    }
   ],
   "source": [
    "forward(1)"
   ]
  },
  {
   "cell_type": "code",
   "execution_count": 470,
   "id": "inclusive-moderator",
   "metadata": {},
   "outputs": [
    {
     "data": {
      "text/plain": [
       "array([1., 1., 1., 1., 1.], dtype=float32)"
      ]
     },
     "execution_count": 470,
     "metadata": {},
     "output_type": "execute_result"
    }
   ],
   "source": [
    "forward(X)"
   ]
  },
  {
   "cell_type": "code",
   "execution_count": 471,
   "id": "caring-mercy",
   "metadata": {},
   "outputs": [],
   "source": [
    "def loss(y, y_pred):\n",
    "    return ((y - y_pred)**2).mean()"
   ]
  },
  {
   "cell_type": "code",
   "execution_count": 472,
   "id": "thick-fight",
   "metadata": {},
   "outputs": [],
   "source": [
    "def gradient(x, y, y_predicted):\n",
    "    return np.dot(2*x, y_predicted -y).mean()"
   ]
  },
  {
   "cell_type": "code",
   "execution_count": 473,
   "id": "iraqi-figure",
   "metadata": {},
   "outputs": [
    {
     "name": "stdout",
     "output_type": "stream",
     "text": [
      "Prediction before training forward(5) =  1.000\n"
     ]
    }
   ],
   "source": [
    "print(f\"Prediction before training forward(5) =  {forward(5):.3f}\")"
   ]
  },
  {
   "cell_type": "code",
   "execution_count": 474,
   "id": "outer-camping",
   "metadata": {},
   "outputs": [],
   "source": [
    "learning_rate = 0.001\n",
    "n_iter = 70"
   ]
  },
  {
   "cell_type": "code",
   "execution_count": 475,
   "id": "intensive-negative",
   "metadata": {},
   "outputs": [
    {
     "name": "stdout",
     "output_type": "stream",
     "text": [
      "Epoch = 1, loss = 44.000\n",
      "Epoch = 11, loss = 4.278\n",
      "Epoch = 21, loss = 0.416\n",
      "Epoch = 31, loss = 0.040\n",
      "Epoch = 41, loss = 0.004\n",
      "Epoch = 51, loss = 0.000\n",
      "Epoch = 61, loss = 0.000\n",
      "Prediction after training forward(5) = 10.997\n"
     ]
    }
   ],
   "source": [
    "for epoch in range(n_iter):\n",
    "    model_output = forward(X)\n",
    "    l = loss(Y, model_output)\n",
    "    dw = gradient(X, Y, model_output)\n",
    "    weights -= learning_rate * dw\n",
    "    \n",
    "    if epoch % 10 == 0:\n",
    "        print(f\"Epoch = {epoch+1}, loss = {l:.3f}\")\n",
    "    \n",
    "print(f\"Prediction after training forward(5) = {forward(5):.3f}\")"
   ]
  },
  {
   "cell_type": "code",
   "execution_count": null,
   "id": "greatest-appraisal",
   "metadata": {},
   "outputs": [],
   "source": []
  }
 ],
 "metadata": {
  "kernelspec": {
   "display_name": "Python 3",
   "language": "python",
   "name": "python3"
  },
  "language_info": {
   "codemirror_mode": {
    "name": "ipython",
    "version": 3
   },
   "file_extension": ".py",
   "mimetype": "text/x-python",
   "name": "python",
   "nbconvert_exporter": "python",
   "pygments_lexer": "ipython3",
   "version": "3.8.5"
  }
 },
 "nbformat": 4,
 "nbformat_minor": 5
}
