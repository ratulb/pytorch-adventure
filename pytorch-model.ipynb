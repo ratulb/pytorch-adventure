{
 "cells": [
  {
   "cell_type": "code",
   "execution_count": 33,
   "id": "according-marsh",
   "metadata": {},
   "outputs": [],
   "source": [
    "import torch\n",
    "import torch.nn as nn\n",
    "X = torch.tensor([[1],[2],[3],[4],[5]], dtype=torch.float32)\n",
    "Y = torch.tensor([[3], [5], [7], [9], [11]], dtype=torch.float32)\n",
    "X_test = torch.tensor([5], dtype=torch.float32)\n"
   ]
  },
  {
   "cell_type": "code",
   "execution_count": 34,
   "metadata": {},
   "outputs": [
    {
     "output_type": "stream",
     "name": "stdout",
     "text": [
      "5 1\n"
     ]
    }
   ],
   "source": [
    "n_samples, n_features = X.shape\n",
    "print(n_samples, n_features)\n",
    "input_size = n_features\n",
    "output_size = n_features\n",
    "model = nn.Linear(input_size, output_size)"
   ]
  },
  {
   "cell_type": "code",
   "execution_count": 35,
   "metadata": {},
   "outputs": [
    {
     "output_type": "stream",
     "name": "stdout",
     "text": [
      "Prediction before training forward = 0.561\n"
     ]
    }
   ],
   "source": [
    "print(f'Prediction before training forward = {model(X_test).item():.3f}')"
   ]
  },
  {
   "cell_type": "code",
   "execution_count": 36,
   "metadata": {},
   "outputs": [
    {
     "output_type": "stream",
     "name": "stdout",
     "text": [
      "epoch = 1, weight = 0.435, loss = 48.957\nepoch = 11, weight = 1.833, loss = 0.231\nepoch = 21, weight = 1.929, loss = 0.011\nepoch = 31, weight = 1.938, loss = 0.009\nepoch = 41, weight = 1.940, loss = 0.009\nepoch = 51, weight = 1.942, loss = 0.008\nepoch = 61, weight = 1.944, loss = 0.007\nepoch = 71, weight = 1.946, loss = 0.007\nepoch = 81, weight = 1.948, loss = 0.006\nepoch = 91, weight = 1.950, loss = 0.006\n"
     ]
    }
   ],
   "source": [
    "learning_rate = 0.01\n",
    "n_iter = 100\n",
    "loss = nn.MSELoss()\n",
    "optimizer = torch.optim.SGD(model.parameters(), lr=learning_rate)\n",
    "\n",
    "for epoch in range(n_iter):\n",
    "    y_pred = model(X)\n",
    "    l = loss(Y, y_pred)\n",
    "    l.backward()\n",
    "    optimizer.step()\n",
    "    optimizer.zero_grad()\n",
    "\n",
    "    if epoch % 10 == 0:\n",
    "        [w,b] = model.parameters()\n",
    "        print(f'epoch = {epoch+1}, weight = {w[0][0].item():.3f}, loss = {l:.3f}')"
   ]
  },
  {
   "cell_type": "code",
   "execution_count": 37,
   "metadata": {},
   "outputs": [
    {
     "output_type": "stream",
     "name": "stdout",
     "text": [
      "Prediction after training forward = 10.932\n"
     ]
    }
   ],
   "source": [
    "print(f'Prediction after training forward = {model(X_test).item():.3f}')"
   ]
  },
  {
   "cell_type": "code",
   "execution_count": null,
   "metadata": {},
   "outputs": [],
   "source": []
  }
 ],
 "metadata": {
  "kernelspec": {
   "display_name": "Python 3",
   "language": "python",
   "name": "python3"
  },
  "language_info": {
   "codemirror_mode": {
    "name": "ipython",
    "version": 3
   },
   "file_extension": ".py",
   "mimetype": "text/x-python",
   "name": "python",
   "nbconvert_exporter": "python",
   "pygments_lexer": "ipython3",
   "version": "3.7.4-final"
  }
 },
 "nbformat": 4,
 "nbformat_minor": 5
}