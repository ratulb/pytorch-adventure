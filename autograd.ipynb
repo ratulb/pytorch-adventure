{
 "metadata": {
  "language_info": {
   "codemirror_mode": {
    "name": "ipython",
    "version": 3
   },
   "file_extension": ".py",
   "mimetype": "text/x-python",
   "name": "python",
   "nbconvert_exporter": "python",
   "pygments_lexer": "ipython3",
   "version": "3.7.4-final"
  },
  "orig_nbformat": 2,
  "kernelspec": {
   "name": "python3",
   "display_name": "Python 3.7.4 64-bit",
   "metadata": {
    "interpreter": {
     "hash": "9a43676f33eaeb0e24c66320a57da3c3a6242ee7ec04ec5b507c813c47652cae"
    }
   }
  }
 },
 "nbformat": 4,
 "nbformat_minor": 2,
 "cells": [
  {
   "cell_type": "code",
   "execution_count": 44,
   "metadata": {},
   "outputs": [],
   "source": [
    "import torch\n",
    "X = torch.tensor([1,2,3,4,5], dtype=torch.float32)\n",
    "Y = torch.tensor([3, 5, 7, 9, 11], dtype=torch.float32)"
   ]
  },
  {
   "cell_type": "code",
   "execution_count": 45,
   "metadata": {},
   "outputs": [],
   "source": [
    "W= torch.tensor(0.0, dtype=torch.float32, requires_grad=True)"
   ]
  },
  {
   "cell_type": "code",
   "execution_count": 46,
   "metadata": {},
   "outputs": [],
   "source": [
    "def forward(x):\n",
    "    return W * x + 1"
   ]
  },
  {
   "cell_type": "code",
   "execution_count": 47,
   "metadata": {},
   "outputs": [],
   "source": [
    "def loss(y, y_predicted):\n",
    "    return ((y_predicted -y) ** 2).mean()"
   ]
  },
  {
   "cell_type": "code",
   "execution_count": 48,
   "metadata": {},
   "outputs": [
    {
     "output_type": "stream",
     "name": "stdout",
     "text": [
      "Prediction before training forward(5) = 1.000\n"
     ]
    }
   ],
   "source": [
    "print(f'Prediction before training forward(5) = {forward(5):.3f}')"
   ]
  },
  {
   "cell_type": "code",
   "execution_count": 49,
   "metadata": {},
   "outputs": [
    {
     "output_type": "stream",
     "name": "stdout",
     "text": [
      "Epoch = 1, W = 0.440 loss = 44.000\nEpoch = 3, W = 1.051 loss = 16.287\nEpoch = 5, W = 1.423 loss = 6.029\nEpoch = 7, W = 1.649 loss = 2.231\nEpoch = 9, W = 1.786 loss = 0.826\nEpoch = 11, W = 1.870 loss = 0.306\nEpoch = 13, W = 1.921 loss = 0.113\nEpoch = 15, W = 1.952 loss = 0.042\nEpoch = 17, W = 1.971 loss = 0.016\nEpoch = 19, W = 1.982 loss = 0.006\nEpoch = 21, W = 1.989 loss = 0.002\nEpoch = 23, W = 1.993 loss = 0.001\nEpoch = 25, W = 1.996 loss = 0.000\nEpoch = 27, W = 1.998 loss = 0.000\nEpoch = 29, W = 1.999 loss = 0.000\nEpoch = 31, W = 1.999 loss = 0.000\nEpoch = 33, W = 1.999 loss = 0.000\nEpoch = 35, W = 2.000 loss = 0.000\nEpoch = 37, W = 2.000 loss = 0.000\nEpoch = 39, W = 2.000 loss = 0.000\nEpoch = 41, W = 2.000 loss = 0.000\nEpoch = 43, W = 2.000 loss = 0.000\nEpoch = 45, W = 2.000 loss = 0.000\nEpoch = 47, W = 2.000 loss = 0.000\nEpoch = 49, W = 2.000 loss = 0.000\nPrediction after training forward(5) = 11.000\n"
     ]
    }
   ],
   "source": [
    "learning_rate = 0.01\n",
    "n_iter = 50\n",
    "for epoch in range(n_iter):\n",
    "    model_output = forward(X)\n",
    "    l = loss(Y, model_output)\n",
    "    #gradient -> dl/dw\n",
    "    l.backward() \n",
    "    with torch.no_grad():\n",
    "        W -= learning_rate * W.grad\n",
    "    W.grad.zero_()\n",
    "\n",
    "    if epoch % 2 == 0:\n",
    "        print(f'Epoch = {epoch+1}, W = {W:.3f} loss = {l:.3f}')\n",
    "\n",
    "print(f'Prediction after training forward(5) = {forward(5):.3f}')"
   ]
  },
  {
   "cell_type": "code",
   "execution_count": null,
   "metadata": {},
   "outputs": [],
   "source": []
  }
 ]
}